{
 "cells": [
  {
   "cell_type": "code",
   "execution_count": 1,
   "metadata": {},
   "outputs": [],
   "source": [
    "import numpy as np\n",
    "import pandas as pd\n",
    "from pathlib import Path\n",
    "%matplotlib inline"
   ]
  },
  {
   "cell_type": "markdown",
   "metadata": {},
   "source": [
    "# Regression Analysis: Seasonal Effects with Sklearn Linear Regression\n",
    "In this notebook, you will build a SKLearn linear regression model to predict Yen futures (\"settle\") returns with *lagged* CAD/JPY exchange rate returns. "
   ]
  },
  {
   "cell_type": "code",
   "execution_count": 2,
   "metadata": {},
   "outputs": [
    {
     "data": {
      "text/html": [
       "<div>\n",
       "<style scoped>\n",
       "    .dataframe tbody tr th:only-of-type {\n",
       "        vertical-align: middle;\n",
       "    }\n",
       "\n",
       "    .dataframe tbody tr th {\n",
       "        vertical-align: top;\n",
       "    }\n",
       "\n",
       "    .dataframe thead th {\n",
       "        text-align: right;\n",
       "    }\n",
       "</style>\n",
       "<table border=\"1\" class=\"dataframe\">\n",
       "  <thead>\n",
       "    <tr style=\"text-align: right;\">\n",
       "      <th></th>\n",
       "      <th>Price</th>\n",
       "      <th>Open</th>\n",
       "      <th>High</th>\n",
       "      <th>Low</th>\n",
       "    </tr>\n",
       "    <tr>\n",
       "      <th>Date</th>\n",
       "      <th></th>\n",
       "      <th></th>\n",
       "      <th></th>\n",
       "      <th></th>\n",
       "    </tr>\n",
       "  </thead>\n",
       "  <tbody>\n",
       "    <tr>\n",
       "      <th>1982-01-05</th>\n",
       "      <td>184.65</td>\n",
       "      <td>184.65</td>\n",
       "      <td>184.65</td>\n",
       "      <td>184.65</td>\n",
       "    </tr>\n",
       "    <tr>\n",
       "      <th>1982-01-06</th>\n",
       "      <td>185.06</td>\n",
       "      <td>185.06</td>\n",
       "      <td>185.06</td>\n",
       "      <td>185.06</td>\n",
       "    </tr>\n",
       "    <tr>\n",
       "      <th>1982-01-07</th>\n",
       "      <td>186.88</td>\n",
       "      <td>186.88</td>\n",
       "      <td>186.88</td>\n",
       "      <td>186.88</td>\n",
       "    </tr>\n",
       "    <tr>\n",
       "      <th>1982-01-08</th>\n",
       "      <td>186.58</td>\n",
       "      <td>186.58</td>\n",
       "      <td>186.58</td>\n",
       "      <td>186.58</td>\n",
       "    </tr>\n",
       "    <tr>\n",
       "      <th>1982-01-11</th>\n",
       "      <td>187.64</td>\n",
       "      <td>187.64</td>\n",
       "      <td>187.64</td>\n",
       "      <td>187.64</td>\n",
       "    </tr>\n",
       "  </tbody>\n",
       "</table>\n",
       "</div>"
      ],
      "text/plain": [
       "             Price    Open    High     Low\n",
       "Date                                      \n",
       "1982-01-05  184.65  184.65  184.65  184.65\n",
       "1982-01-06  185.06  185.06  185.06  185.06\n",
       "1982-01-07  186.88  186.88  186.88  186.88\n",
       "1982-01-08  186.58  186.58  186.58  186.58\n",
       "1982-01-11  187.64  187.64  187.64  187.64"
      ]
     },
     "execution_count": 2,
     "metadata": {},
     "output_type": "execute_result"
    }
   ],
   "source": [
    "# Currency pair exchange rates for CAD/JPY\n",
    "cad_jpy_df = pd.read_csv(\n",
    "    Path(\"cad_jpy.csv\"), index_col=\"Date\", infer_datetime_format=True, parse_dates=True\n",
    ")\n",
    "cad_jpy_df.head()"
   ]
  },
  {
   "cell_type": "code",
   "execution_count": 3,
   "metadata": {},
   "outputs": [
    {
     "data": {
      "text/html": [
       "<div>\n",
       "<style scoped>\n",
       "    .dataframe tbody tr th:only-of-type {\n",
       "        vertical-align: middle;\n",
       "    }\n",
       "\n",
       "    .dataframe tbody tr th {\n",
       "        vertical-align: top;\n",
       "    }\n",
       "\n",
       "    .dataframe thead th {\n",
       "        text-align: right;\n",
       "    }\n",
       "</style>\n",
       "<table border=\"1\" class=\"dataframe\">\n",
       "  <thead>\n",
       "    <tr style=\"text-align: right;\">\n",
       "      <th></th>\n",
       "      <th>Price</th>\n",
       "      <th>Open</th>\n",
       "      <th>High</th>\n",
       "      <th>Low</th>\n",
       "    </tr>\n",
       "    <tr>\n",
       "      <th>Date</th>\n",
       "      <th></th>\n",
       "      <th></th>\n",
       "      <th></th>\n",
       "      <th></th>\n",
       "    </tr>\n",
       "  </thead>\n",
       "  <tbody>\n",
       "    <tr>\n",
       "      <th>1990-01-02</th>\n",
       "      <td>126.37</td>\n",
       "      <td>126.31</td>\n",
       "      <td>126.37</td>\n",
       "      <td>126.31</td>\n",
       "    </tr>\n",
       "    <tr>\n",
       "      <th>1990-01-03</th>\n",
       "      <td>125.30</td>\n",
       "      <td>125.24</td>\n",
       "      <td>125.30</td>\n",
       "      <td>125.24</td>\n",
       "    </tr>\n",
       "    <tr>\n",
       "      <th>1990-01-04</th>\n",
       "      <td>123.46</td>\n",
       "      <td>123.41</td>\n",
       "      <td>123.46</td>\n",
       "      <td>123.41</td>\n",
       "    </tr>\n",
       "    <tr>\n",
       "      <th>1990-01-05</th>\n",
       "      <td>124.54</td>\n",
       "      <td>124.48</td>\n",
       "      <td>124.54</td>\n",
       "      <td>124.48</td>\n",
       "    </tr>\n",
       "    <tr>\n",
       "      <th>1990-01-08</th>\n",
       "      <td>124.27</td>\n",
       "      <td>124.21</td>\n",
       "      <td>124.27</td>\n",
       "      <td>124.21</td>\n",
       "    </tr>\n",
       "  </tbody>\n",
       "</table>\n",
       "</div>"
      ],
      "text/plain": [
       "             Price    Open    High     Low\n",
       "Date                                      \n",
       "1990-01-02  126.37  126.31  126.37  126.31\n",
       "1990-01-03  125.30  125.24  125.30  125.24\n",
       "1990-01-04  123.46  123.41  123.46  123.41\n",
       "1990-01-05  124.54  124.48  124.54  124.48\n",
       "1990-01-08  124.27  124.21  124.27  124.21"
      ]
     },
     "execution_count": 3,
     "metadata": {},
     "output_type": "execute_result"
    }
   ],
   "source": [
    "# Trim the dataset to begin on January 1st, 1990\n",
    "cad_jpy_df = cad_jpy_df.loc[\"1990-01-01\":, :]\n",
    "cad_jpy_df.head()"
   ]
  },
  {
   "cell_type": "markdown",
   "metadata": {},
   "source": [
    "# Data Preparation"
   ]
  },
  {
   "cell_type": "markdown",
   "metadata": {},
   "source": [
    "### Returns"
   ]
  },
  {
   "cell_type": "code",
   "execution_count": 4,
   "metadata": {},
   "outputs": [
    {
     "data": {
      "text/html": [
       "<div>\n",
       "<style scoped>\n",
       "    .dataframe tbody tr th:only-of-type {\n",
       "        vertical-align: middle;\n",
       "    }\n",
       "\n",
       "    .dataframe tbody tr th {\n",
       "        vertical-align: top;\n",
       "    }\n",
       "\n",
       "    .dataframe thead th {\n",
       "        text-align: right;\n",
       "    }\n",
       "</style>\n",
       "<table border=\"1\" class=\"dataframe\">\n",
       "  <thead>\n",
       "    <tr style=\"text-align: right;\">\n",
       "      <th></th>\n",
       "      <th>Price</th>\n",
       "      <th>Open</th>\n",
       "      <th>High</th>\n",
       "      <th>Low</th>\n",
       "      <th>Return</th>\n",
       "    </tr>\n",
       "    <tr>\n",
       "      <th>Date</th>\n",
       "      <th></th>\n",
       "      <th></th>\n",
       "      <th></th>\n",
       "      <th></th>\n",
       "      <th></th>\n",
       "    </tr>\n",
       "  </thead>\n",
       "  <tbody>\n",
       "    <tr>\n",
       "      <th>1990-01-03</th>\n",
       "      <td>125.30</td>\n",
       "      <td>125.24</td>\n",
       "      <td>125.30</td>\n",
       "      <td>125.24</td>\n",
       "      <td>-0.846720</td>\n",
       "    </tr>\n",
       "    <tr>\n",
       "      <th>1990-01-04</th>\n",
       "      <td>123.46</td>\n",
       "      <td>123.41</td>\n",
       "      <td>123.46</td>\n",
       "      <td>123.41</td>\n",
       "      <td>-1.468476</td>\n",
       "    </tr>\n",
       "    <tr>\n",
       "      <th>1990-01-05</th>\n",
       "      <td>124.54</td>\n",
       "      <td>124.48</td>\n",
       "      <td>124.54</td>\n",
       "      <td>124.48</td>\n",
       "      <td>0.874777</td>\n",
       "    </tr>\n",
       "    <tr>\n",
       "      <th>1990-01-08</th>\n",
       "      <td>124.27</td>\n",
       "      <td>124.21</td>\n",
       "      <td>124.27</td>\n",
       "      <td>124.21</td>\n",
       "      <td>-0.216798</td>\n",
       "    </tr>\n",
       "    <tr>\n",
       "      <th>1990-01-09</th>\n",
       "      <td>125.10</td>\n",
       "      <td>125.04</td>\n",
       "      <td>125.10</td>\n",
       "      <td>125.04</td>\n",
       "      <td>0.667901</td>\n",
       "    </tr>\n",
       "  </tbody>\n",
       "</table>\n",
       "</div>"
      ],
      "text/plain": [
       "             Price    Open    High     Low    Return\n",
       "Date                                                \n",
       "1990-01-03  125.30  125.24  125.30  125.24 -0.846720\n",
       "1990-01-04  123.46  123.41  123.46  123.41 -1.468476\n",
       "1990-01-05  124.54  124.48  124.54  124.48  0.874777\n",
       "1990-01-08  124.27  124.21  124.27  124.21 -0.216798\n",
       "1990-01-09  125.10  125.04  125.10  125.04  0.667901"
      ]
     },
     "execution_count": 4,
     "metadata": {},
     "output_type": "execute_result"
    }
   ],
   "source": [
    "# Create a series using \"Price\" percentage returns, drop any nan\"s, and check the results:\n",
    "# (Make sure to multiply the pct_change() results by 100)\n",
    "# In this case, you may have to replace inf, -inf values with np.nan\"s\n",
    "cad_jpy_df['Return'] = cad_jpy_df.Price.pct_change() * 100\n",
    "cad_jpy_df = cad_jpy_df.resample('D').first() #aggregation function \n",
    "cad_jpy_df = cad_jpy_df.dropna()\n",
    "cad_jpy_df.head()"
   ]
  },
  {
   "cell_type": "markdown",
   "metadata": {},
   "source": [
    "### Lagged Returns "
   ]
  },
  {
   "cell_type": "code",
   "execution_count": 5,
   "metadata": {},
   "outputs": [
    {
     "data": {
      "text/html": [
       "<div>\n",
       "<style scoped>\n",
       "    .dataframe tbody tr th:only-of-type {\n",
       "        vertical-align: middle;\n",
       "    }\n",
       "\n",
       "    .dataframe tbody tr th {\n",
       "        vertical-align: top;\n",
       "    }\n",
       "\n",
       "    .dataframe thead th {\n",
       "        text-align: right;\n",
       "    }\n",
       "</style>\n",
       "<table border=\"1\" class=\"dataframe\">\n",
       "  <thead>\n",
       "    <tr style=\"text-align: right;\">\n",
       "      <th></th>\n",
       "      <th>Price</th>\n",
       "      <th>Open</th>\n",
       "      <th>High</th>\n",
       "      <th>Low</th>\n",
       "      <th>Return</th>\n",
       "      <th>Lag_Return</th>\n",
       "      <th>Return_Difference</th>\n",
       "    </tr>\n",
       "    <tr>\n",
       "      <th>Date</th>\n",
       "      <th></th>\n",
       "      <th></th>\n",
       "      <th></th>\n",
       "      <th></th>\n",
       "      <th></th>\n",
       "      <th></th>\n",
       "      <th></th>\n",
       "    </tr>\n",
       "  </thead>\n",
       "  <tbody>\n",
       "    <tr>\n",
       "      <th>1990-01-03</th>\n",
       "      <td>125.30</td>\n",
       "      <td>125.24</td>\n",
       "      <td>125.30</td>\n",
       "      <td>125.24</td>\n",
       "      <td>-0.846720</td>\n",
       "      <td>NaN</td>\n",
       "      <td>NaN</td>\n",
       "    </tr>\n",
       "    <tr>\n",
       "      <th>1990-01-04</th>\n",
       "      <td>123.46</td>\n",
       "      <td>123.41</td>\n",
       "      <td>123.46</td>\n",
       "      <td>123.41</td>\n",
       "      <td>-1.468476</td>\n",
       "      <td>-0.846720</td>\n",
       "      <td>-0.621756</td>\n",
       "    </tr>\n",
       "    <tr>\n",
       "      <th>1990-01-05</th>\n",
       "      <td>124.54</td>\n",
       "      <td>124.48</td>\n",
       "      <td>124.54</td>\n",
       "      <td>124.48</td>\n",
       "      <td>0.874777</td>\n",
       "      <td>-1.468476</td>\n",
       "      <td>2.343253</td>\n",
       "    </tr>\n",
       "    <tr>\n",
       "      <th>1990-01-08</th>\n",
       "      <td>124.27</td>\n",
       "      <td>124.21</td>\n",
       "      <td>124.27</td>\n",
       "      <td>124.21</td>\n",
       "      <td>-0.216798</td>\n",
       "      <td>0.874777</td>\n",
       "      <td>-1.091575</td>\n",
       "    </tr>\n",
       "    <tr>\n",
       "      <th>1990-01-09</th>\n",
       "      <td>125.10</td>\n",
       "      <td>125.04</td>\n",
       "      <td>125.10</td>\n",
       "      <td>125.04</td>\n",
       "      <td>0.667901</td>\n",
       "      <td>-0.216798</td>\n",
       "      <td>0.884698</td>\n",
       "    </tr>\n",
       "  </tbody>\n",
       "</table>\n",
       "</div>"
      ],
      "text/plain": [
       "             Price    Open    High     Low    Return  Lag_Return  \\\n",
       "Date                                                               \n",
       "1990-01-03  125.30  125.24  125.30  125.24 -0.846720         NaN   \n",
       "1990-01-04  123.46  123.41  123.46  123.41 -1.468476   -0.846720   \n",
       "1990-01-05  124.54  124.48  124.54  124.48  0.874777   -1.468476   \n",
       "1990-01-08  124.27  124.21  124.27  124.21 -0.216798    0.874777   \n",
       "1990-01-09  125.10  125.04  125.10  125.04  0.667901   -0.216798   \n",
       "\n",
       "            Return_Difference  \n",
       "Date                           \n",
       "1990-01-03                NaN  \n",
       "1990-01-04          -0.621756  \n",
       "1990-01-05           2.343253  \n",
       "1990-01-08          -1.091575  \n",
       "1990-01-09           0.884698  "
      ]
     },
     "execution_count": 5,
     "metadata": {},
     "output_type": "execute_result"
    }
   ],
   "source": [
    "# Create a lagged return using the shift function\n",
    "cad_jpy_df['Lag_Return'] = cad_jpy_df.Return.shift()\n",
    "cad_jpy_df['Return_Difference'] = cad_jpy_df.Return.diff()\n",
    "cad_jpy_df.head()"
   ]
  },
  {
   "cell_type": "markdown",
   "metadata": {},
   "source": [
    "### Train Test Split"
   ]
  },
  {
   "cell_type": "code",
   "execution_count": 6,
   "metadata": {},
   "outputs": [],
   "source": [
    "# Create a train/test split for the data using 2018-2019 for testing and the rest for training\n",
    "train = cad_jpy_df[:'2018'].dropna()\n",
    "test = cad_jpy_df['2019':].dropna() "
   ]
  },
  {
   "cell_type": "code",
   "execution_count": 7,
   "metadata": {},
   "outputs": [],
   "source": [
    "# Create four dataframes:\n",
    "# X_train (training set using just the independent variables), X_test (test set of of just the independent variables)\n",
    "# Y_train (training set using just the \"y\" variable, i.e., \"Futures Return\"), Y_test (test set of just the \"y\" variable):\n",
    "X_train = train[\"Lag_Return\"].to_frame()\n",
    "X_test = test[\"Lag_Return\"].to_frame()\n",
    "y_train = train[\"Return\"]\n",
    "y_test = test[\"Return\"]"
   ]
  },
  {
   "cell_type": "code",
   "execution_count": 8,
   "metadata": {},
   "outputs": [
    {
     "data": {
      "text/html": [
       "<div>\n",
       "<style scoped>\n",
       "    .dataframe tbody tr th:only-of-type {\n",
       "        vertical-align: middle;\n",
       "    }\n",
       "\n",
       "    .dataframe tbody tr th {\n",
       "        vertical-align: top;\n",
       "    }\n",
       "\n",
       "    .dataframe thead th {\n",
       "        text-align: right;\n",
       "    }\n",
       "</style>\n",
       "<table border=\"1\" class=\"dataframe\">\n",
       "  <thead>\n",
       "    <tr style=\"text-align: right;\">\n",
       "      <th></th>\n",
       "      <th>Lag_Return</th>\n",
       "    </tr>\n",
       "    <tr>\n",
       "      <th>Date</th>\n",
       "      <th></th>\n",
       "    </tr>\n",
       "  </thead>\n",
       "  <tbody>\n",
       "    <tr>\n",
       "      <th>1990-01-04</th>\n",
       "      <td>-0.846720</td>\n",
       "    </tr>\n",
       "    <tr>\n",
       "      <th>1990-01-05</th>\n",
       "      <td>-1.468476</td>\n",
       "    </tr>\n",
       "    <tr>\n",
       "      <th>1990-01-08</th>\n",
       "      <td>0.874777</td>\n",
       "    </tr>\n",
       "    <tr>\n",
       "      <th>1990-01-09</th>\n",
       "      <td>-0.216798</td>\n",
       "    </tr>\n",
       "    <tr>\n",
       "      <th>1990-01-10</th>\n",
       "      <td>0.667901</td>\n",
       "    </tr>\n",
       "  </tbody>\n",
       "</table>\n",
       "</div>"
      ],
      "text/plain": [
       "            Lag_Return\n",
       "Date                  \n",
       "1990-01-04   -0.846720\n",
       "1990-01-05   -1.468476\n",
       "1990-01-08    0.874777\n",
       "1990-01-09   -0.216798\n",
       "1990-01-10    0.667901"
      ]
     },
     "execution_count": 8,
     "metadata": {},
     "output_type": "execute_result"
    }
   ],
   "source": [
    "# Preview the X_train data\n",
    "X_train.head().dropna()"
   ]
  },
  {
   "cell_type": "code",
   "execution_count": 9,
   "metadata": {},
   "outputs": [
    {
     "data": {
      "text/plain": [
       "Date\n",
       "1990-01-04   -1.468476\n",
       "1990-01-05    0.874777\n",
       "1990-01-08   -0.216798\n",
       "1990-01-09    0.667901\n",
       "1990-01-10    0.567546\n",
       "Name: Return, dtype: float64"
      ]
     },
     "execution_count": 9,
     "metadata": {},
     "output_type": "execute_result"
    }
   ],
   "source": [
    "y_train.head().dropna()"
   ]
  },
  {
   "cell_type": "code",
   "execution_count": 10,
   "metadata": {},
   "outputs": [
    {
     "data": {
      "text/plain": [
       "<bound method Series.count of Date\n",
       "1990-01-04   -1.468476\n",
       "1990-01-05    0.874777\n",
       "1990-01-08   -0.216798\n",
       "1990-01-09    0.667901\n",
       "1990-01-10    0.567546\n",
       "                ...   \n",
       "2018-12-25   -0.024640\n",
       "2018-12-26    1.121380\n",
       "2018-12-27   -0.658055\n",
       "2018-12-28   -0.809617\n",
       "2018-12-31   -0.643087\n",
       "Name: Return, Length: 7554, dtype: float64>"
      ]
     },
     "execution_count": 10,
     "metadata": {},
     "output_type": "execute_result"
    }
   ],
   "source": [
    "y_train.count\n"
   ]
  },
  {
   "cell_type": "markdown",
   "metadata": {},
   "source": [
    "# Linear Regression Model"
   ]
  },
  {
   "cell_type": "code",
   "execution_count": 11,
   "metadata": {},
   "outputs": [
    {
     "data": {
      "text/plain": [
       "<bound method DataFrame.count of             Lag_Return\n",
       "Date                  \n",
       "1990-01-04   -0.846720\n",
       "1990-01-05   -1.468476\n",
       "1990-01-08    0.874777\n",
       "1990-01-09   -0.216798\n",
       "1990-01-10    0.667901\n",
       "...                ...\n",
       "2018-12-25   -0.745904\n",
       "2018-12-26   -0.024640\n",
       "2018-12-27    1.121380\n",
       "2018-12-28   -0.658055\n",
       "2018-12-31   -0.809617\n",
       "\n",
       "[7554 rows x 1 columns]>"
      ]
     },
     "execution_count": 11,
     "metadata": {},
     "output_type": "execute_result"
    }
   ],
   "source": [
    "X_train.count\n"
   ]
  },
  {
   "cell_type": "code",
   "execution_count": 12,
   "metadata": {},
   "outputs": [],
   "source": [
    "# Create a Linear Regression model and fit it to the training data\n",
    "from sklearn.linear_model import LinearRegression\n",
    "\n"
   ]
  },
  {
   "cell_type": "code",
   "execution_count": 13,
   "metadata": {},
   "outputs": [
    {
     "data": {
      "text/plain": [
       "LinearRegression()"
      ]
     },
     "execution_count": 13,
     "metadata": {},
     "output_type": "execute_result"
    }
   ],
   "source": [
    "# Fit a SKLearn linear regression using  just the training set (X_train, Y_train):\n",
    "model = LinearRegression()\n",
    "model.fit(X_train, y_train)"
   ]
  },
  {
   "cell_type": "markdown",
   "metadata": {},
   "source": [
    "# Make predictions using the Testing Data\n",
    "\n",
    "**Note:** We want to evaluate the model using data that it has never seen before, in this case: `X_test`."
   ]
  },
  {
   "cell_type": "code",
   "execution_count": 14,
   "metadata": {},
   "outputs": [
    {
     "data": {
      "text/plain": [
       "array([ 1.35989860e-02, -5.56101232e-03,  5.30411380e-03,  9.37506080e-03,\n",
       "       -4.43653014e-02, -2.09103358e-02, -7.64486582e-03, -1.53978532e-03,\n",
       "       -3.36841270e-03,  2.88507168e-04,  1.00531411e-02, -1.77832651e-02,\n",
       "       -1.43378327e-02, -1.54411671e-03, -1.82298056e-02,  6.28889834e-03,\n",
       "        1.56982585e-02, -1.00727470e-02, -1.84628096e-03, -2.52463775e-02,\n",
       "        1.01943498e-02, -1.54588185e-03, -1.69880141e-02, -4.26017518e-03,\n",
       "       -2.05033074e-02, -9.62185311e-03, -1.26269860e-03,  1.42312923e-02,\n",
       "        1.82429897e-02, -5.78102661e-03, -1.24219309e-02, -1.74968909e-02,\n",
       "       -1.08275272e-02,  1.66217264e-02, -1.14645031e-02, -6.64374112e-03,\n",
       "       -8.42934432e-03, -1.40781606e-02,  1.14898226e-02, -2.00561178e-02,\n",
       "       -6.76412924e-04,  4.36474534e-03, -1.37504291e-02, -9.26048279e-03,\n",
       "        9.64649120e-03,  2.88432627e-03,  2.30135583e-03,  1.80923858e-02,\n",
       "        3.55094858e-03, -4.61874823e-05, -7.57532760e-03, -1.32770355e-02,\n",
       "       -6.94408988e-03, -9.62528520e-03,  3.20712655e-03, -1.55804856e-03,\n",
       "       -3.94760598e-03,  9.78687405e-03,  5.34678305e-03,  3.00506135e-02,\n",
       "       -8.24776798e-03, -2.13163542e-02,  5.09484271e-03,  2.71870194e-04,\n",
       "       -2.45873815e-02, -2.07864562e-02,  3.51291122e-03, -4.54733048e-03,\n",
       "       -3.64915717e-03,  5.32702412e-04, -9.92946066e-03,  7.68243235e-03,\n",
       "       -6.57868240e-04, -5.14996638e-03, -2.25027593e-02,  5.26422108e-03,\n",
       "       -4.24056786e-03, -5.72708873e-03,  5.86683069e-03,  2.01852784e-03,\n",
       "       -1.17136048e-02,  1.39138054e-02,  2.63857864e-03,  8.95259678e-03,\n",
       "       -7.27872727e-03, -2.75489957e-03, -1.14818834e-02,  9.24011269e-03,\n",
       "        5.58654336e-04, -3.05717677e-03,  9.60805769e-03,  1.42118341e-02,\n",
       "        1.81677618e-03,  4.87982878e-03, -1.83905665e-02,  2.37356093e-02,\n",
       "       -1.19944431e-02, -6.74614496e-03, -4.29029400e-03, -7.95896908e-03,\n",
       "       -7.94685530e-03, -1.58515971e-02,  5.11773999e-03,  2.21529229e-02,\n",
       "       -1.84030603e-03, -6.44347826e-03,  1.01084074e-02, -2.45393156e-03,\n",
       "       -6.45725908e-03,  3.04437736e-02, -1.24238913e-02, -1.20739078e-02,\n",
       "       -5.54523643e-03, -1.14076275e-02, -1.50673621e-02, -8.26979237e-03,\n",
       "       -1.53777228e-03,  9.46051201e-03, -2.76089525e-03,  9.51618013e-03,\n",
       "       -2.45393156e-03, -6.46319433e-03, -1.29228812e-02, -9.20809910e-04,\n",
       "        3.68232379e-03, -1.01431525e-02, -2.45393156e-03, -2.39176347e-02,\n",
       "       -8.53413782e-03, -5.78991935e-03, -6.69406763e-03,  4.50019387e-03,\n",
       "       -1.00338802e-02, -3.05849167e-03, -1.21245511e-02, -5.76537819e-03,\n",
       "        8.53127986e-04, -2.45393156e-03, -3.95913458e-03,  2.35981543e-03,\n",
       "        8.61913798e-04, -2.45393156e-03, -3.05761444e-03,  8.40973289e-03,\n",
       "       -5.78789410e-03,  5.11314943e-03, -8.52600327e-03,  8.77603918e-04,\n",
       "       -9.12590713e-03, -2.45393156e-03, -5.78102661e-03, -1.54774981e-03,\n",
       "        2.68296318e-03,  3.35784814e-02,  1.38291601e-02,  1.45545641e-02,\n",
       "       -3.07666542e-03,  6.88474661e-03, -1.21401362e-02,  6.26108127e-03,\n",
       "        9.72736453e-03, -3.98047693e-02,  3.46555136e-02, -9.04608476e-03,\n",
       "       -1.56035120e-02,  1.28340395e-03,  5.34385888e-03, -1.62210489e-02,\n",
       "        4.39187134e-03,  1.78279264e-02, -2.54186062e-02,  1.21967612e-02,\n",
       "       -6.84373203e-03, -1.56002143e-02,  7.19844326e-03,  2.85985350e-03,\n",
       "        5.06388601e-03, -3.38727947e-02, -1.45549780e-02, -1.26438804e-02,\n",
       "       -1.07572671e-02, -1.28753185e-02, -9.27746264e-04, -5.50816952e-03,\n",
       "        1.18834444e-02, -1.25787529e-02, -9.26064826e-04, -2.14817107e-03,\n",
       "        3.35622951e-03,  7.66094397e-03, -1.53065626e-03,  4.31925922e-03,\n",
       "       -1.38761998e-02, -3.99045051e-03, -8.59622654e-03, -7.04934518e-03,\n",
       "        1.52144180e-03,  2.97060698e-02,  6.23399919e-03, -6.81306858e-03,\n",
       "       -1.17786558e-02,  5.28775271e-03, -1.02197002e-02, -2.16533086e-02,\n",
       "       -3.04185764e-02,  4.23185257e-03, -1.92132794e-02, -3.24656475e-05,\n",
       "       -1.24521773e-02,  8.65521464e-04, -1.39364022e-02,  1.45629531e-03,\n",
       "       -1.17929479e-02, -5.28459065e-05, -6.35945242e-03, -9.95281608e-03,\n",
       "        5.62060711e-03,  1.19473877e-02,  1.68592497e-02, -1.09693315e-02,\n",
       "       -8.51568163e-03, -1.48504160e-02,  6.57184405e-03, -1.09085588e-02,\n",
       "        7.77774716e-03,  3.28730374e-03, -1.24246412e-03,  5.42443037e-03,\n",
       "        6.05732062e-03, -1.49594760e-02, -3.36441011e-03,  1.18050315e-02,\n",
       "        2.73319562e-03, -6.73457849e-03,  2.93201976e-04, -8.56539852e-03,\n",
       "       -1.09890888e-02, -1.18713697e-02, -2.15128502e-03, -2.75661480e-03,\n",
       "        1.44942748e-02,  4.24980756e-03, -2.59801994e-02, -4.87539748e-03,\n",
       "        1.65966325e-02, -4.89165488e-03, -8.23787606e-03, -9.13564843e-03,\n",
       "       -1.75991122e-02, -6.97008524e-03, -8.76512856e-03, -5.57294008e-05,\n",
       "       -1.23560287e-02,  3.52362753e-03, -5.71685523e-05, -1.85416494e-03,\n",
       "        1.44548838e-03, -2.45393156e-03, -1.62734669e-02, -6.03917922e-03,\n",
       "        7.68970116e-03, -1.23393925e-02, -3.64744277e-03, -6.80499137e-05,\n",
       "        1.18750539e-02, -1.59649119e-02,  4.11587713e-03, -1.20352339e-02,\n",
       "       -8.71761925e-03, -1.85888301e-03, -1.19769785e-02, -3.04685999e-03,\n",
       "       -3.93590062e-03, -8.37829059e-03,  1.68330076e-03, -5.71001071e-03,\n",
       "        8.18844555e-03,  1.12028857e-02,  3.51647905e-03,  5.92468303e-03,\n",
       "        1.58609529e-02, -1.57623118e-02,  8.97871755e-03,  2.66259511e-04,\n",
       "        1.60030320e-02, -1.53151990e-05, -2.41178157e-02, -7.59642884e-03,\n",
       "       -5.77458889e-03,  8.39923660e-03, -2.15113818e-03, -8.20770384e-03,\n",
       "       -1.63520820e-02,  6.86035454e-03, -3.66027622e-03, -9.08562229e-03,\n",
       "        2.05569510e-03, -4.34152129e-02, -1.19362817e-02,  3.45010977e-03,\n",
       "        2.92075749e-02,  6.23746376e-03,  2.65882597e-03,  2.73814710e-02,\n",
       "        3.32326221e-02, -2.19484657e-02,  3.65400465e-02, -1.18112801e-02,\n",
       "        3.35926919e-02,  2.02476555e-02,  1.17186857e-01, -7.89884565e-02,\n",
       "        3.28914732e-02,  2.15577555e-02, -1.02754765e-01,  8.24778704e-02,\n",
       "       -1.27006330e-02,  3.07940041e-02, -5.14977187e-02, -3.02661530e-02,\n",
       "        1.14607473e-02, -8.96215390e-03, -4.95158427e-02,  2.96157220e-03,\n",
       "        2.97904854e-02,  3.21530221e-02, -1.49170362e-02,  2.98544276e-02,\n",
       "       -2.98959157e-02, -3.76205612e-03, -3.61204962e-02, -1.18067263e-02,\n",
       "       -1.16870635e-03, -1.48951611e-03, -5.34829617e-03,  3.97054065e-03,\n",
       "        6.56353753e-03,  3.24538371e-02, -1.94997479e-02, -7.01206401e-03,\n",
       "        2.19201279e-02,  4.76629338e-03, -1.03533894e-02, -1.49219507e-02,\n",
       "        5.05499592e-03, -9.00313444e-03, -1.67708780e-04, -1.94528696e-02,\n",
       "       -2.12924001e-03,  2.90452465e-02,  1.16379116e-03, -5.74754375e-03,\n",
       "        2.55048822e-02, -3.67171983e-02, -1.95176743e-02, -1.25574815e-02,\n",
       "        2.35146372e-02,  4.10645918e-03, -1.69248224e-02,  1.32415068e-02,\n",
       "       -4.02955211e-02, -1.02333743e-02, -5.68529555e-03,  4.96859715e-03,\n",
       "        5.31441494e-03, -6.67492178e-03, -3.61648499e-02, -1.10891877e-02,\n",
       "        4.14564106e-04, -4.36846206e-03, -3.37006311e-02, -3.80378650e-02,\n",
       "       -1.17682177e-02])"
      ]
     },
     "execution_count": 14,
     "metadata": {},
     "output_type": "execute_result"
    }
   ],
   "source": [
    "# Make a prediction of \"y\" values using just the test dataset\n",
    "predictions = model.predict(X_test)#, array.reshape(1, -1)\n",
    "predictions"
   ]
  },
  {
   "cell_type": "code",
   "execution_count": 15,
   "metadata": {},
   "outputs": [],
   "source": [
    "# Assemble actual y data (Y_test) with predicted y data (from just above) into two columns in a dataframe:\n",
    "Results = y_test.to_frame()\n",
    "Results[\"Predicted Return\"] = predictions"
   ]
  },
  {
   "cell_type": "code",
   "execution_count": 16,
   "metadata": {},
   "outputs": [
    {
     "data": {
      "text/html": [
       "<div>\n",
       "<style scoped>\n",
       "    .dataframe tbody tr th:only-of-type {\n",
       "        vertical-align: middle;\n",
       "    }\n",
       "\n",
       "    .dataframe tbody tr th {\n",
       "        vertical-align: top;\n",
       "    }\n",
       "\n",
       "    .dataframe thead th {\n",
       "        text-align: right;\n",
       "    }\n",
       "</style>\n",
       "<table border=\"1\" class=\"dataframe\">\n",
       "  <thead>\n",
       "    <tr style=\"text-align: right;\">\n",
       "      <th></th>\n",
       "      <th>Return</th>\n",
       "      <th>Predicted Return</th>\n",
       "    </tr>\n",
       "    <tr>\n",
       "      <th>Date</th>\n",
       "      <th></th>\n",
       "      <th></th>\n",
       "    </tr>\n",
       "  </thead>\n",
       "  <tbody>\n",
       "    <tr>\n",
       "      <th>2019-01-01</th>\n",
       "      <td>0.124471</td>\n",
       "      <td>0.013599</td>\n",
       "    </tr>\n",
       "    <tr>\n",
       "      <th>2019-01-02</th>\n",
       "      <td>-0.310791</td>\n",
       "      <td>-0.005561</td>\n",
       "    </tr>\n",
       "  </tbody>\n",
       "</table>\n",
       "</div>"
      ],
      "text/plain": [
       "              Return  Predicted Return\n",
       "Date                                  \n",
       "2019-01-01  0.124471          0.013599\n",
       "2019-01-02 -0.310791         -0.005561"
      ]
     },
     "execution_count": 16,
     "metadata": {},
     "output_type": "execute_result"
    }
   ],
   "source": [
    "Results.head(2)"
   ]
  },
  {
   "cell_type": "code",
   "execution_count": 17,
   "metadata": {
    "tags": []
   },
   "outputs": [
    {
     "data": {
      "text/plain": [
       "array([<AxesSubplot:xlabel='Date'>, <AxesSubplot:xlabel='Date'>],\n",
       "      dtype=object)"
      ]
     },
     "execution_count": 17,
     "metadata": {},
     "output_type": "execute_result"
    },
    {
     "data": {
      "image/png": "[encoded data removed]",
      "text/plain": [
       "<Figure size 1080x576 with 2 Axes>"
      ]
     },
     "metadata": {
      "needs_background": "light"
     },
     "output_type": "display_data"
    }
   ],
   "source": [
    "# Plot the first 20 predictions vs the true values\n",
    "Results[:20].plot(figsize = (15,8), subplots=True)"
   ]
  },
  {
   "cell_type": "code",
   "execution_count": 18,
   "metadata": {},
   "outputs": [
    {
     "data": {
      "text/plain": [
       "<AxesSubplot:xlabel='Date'>"
      ]
     },
     "execution_count": 18,
     "metadata": {},
     "output_type": "execute_result"
    },
    {
     "data": {
      "image/png": "[encoded data removed]",
      "text/plain": [
       "<Figure size 1080x576 with 1 Axes>"
      ]
     },
     "metadata": {
      "needs_background": "light"
     },
     "output_type": "display_data"
    }
   ],
   "source": [
    "Results[:20].plot(figsize = (15,8))"
   ]
  },
  {
   "cell_type": "markdown",
   "metadata": {},
   "source": [
    "# Out-of-Sample Performance\n",
    "\n",
    "Evaluate the model using \"out-of-sample\" data (`X_test` and `y_test`)"
   ]
  },
  {
   "cell_type": "code",
   "execution_count": 19,
   "metadata": {},
   "outputs": [
    {
     "name": "stdout",
     "output_type": "stream",
     "text": [
      "Out-of-Sample Root Mean Squared Error (RMSE): 0.6878550383598834\n"
     ]
    }
   ],
   "source": [
    "from sklearn.metrics import mean_squared_error\n",
    "# Calculate the mean_squared_error (MSE) on actual versus predicted test \"y\" \n",
    "# (Hint: use the dataframe from above)\n",
    "mse = mean_squared_error(\n",
    "    Results[\"Return\"],\n",
    "    Results[\"Predicted Return\"]\n",
    ")\n",
    "\n",
    "\n",
    "# Using that mean-squared-error, calculate the root-mean-squared error (RMSE):\n",
    "rmse = np.sqrt(mse)\n",
    "print(f\"Out-of-Sample Root Mean Squared Error (RMSE): {rmse}\")"
   ]
  },
  {
   "cell_type": "markdown",
   "metadata": {},
   "source": [
    "# In-Sample Performance\n",
    "\n",
    "Evaluate the model using in-sample data (X_train and y_train)"
   ]
  },
  {
   "cell_type": "code",
   "execution_count": 20,
   "metadata": {},
   "outputs": [
    {
     "name": "stdout",
     "output_type": "stream",
     "text": [
      "In-sample Root Mean Squared Error (RMSE): 0.8342483222052092\n"
     ]
    }
   ],
   "source": [
    "# Construct a dataframe using just the \"y\" training data:\n",
    "in_sample_results = y_train.to_frame()\n",
    "\n",
    "# Add a column of \"in-sample\" predictions to that dataframe:  \n",
    "in_sample_results[\"In-sample Predictions\"] = model.predict(X_train)\n",
    "\n",
    "# Calculate in-sample mean_squared_error (for comparison to out-of-sample)\n",
    "in_sample_mse = mean_squared_error(\n",
    "    in_sample_results[\"Return\"],\n",
    "    in_sample_results[\"In-sample Predictions\"]\n",
    ")\n",
    "\n",
    "\n",
    "# Calculate in-sample root mean_squared_error (for comparison to out-of-sample)\n",
    "in_sample_rmse = np.sqrt(in_sample_mse)\n",
    "print(f\"In-sample Root Mean Squared Error (RMSE): {in_sample_rmse}\")\n",
    "#may need to limit the data somehow "
   ]
  },
  {
   "cell_type": "markdown",
   "metadata": {},
   "source": [
    "# Conclusions"
   ]
  },
  {
   "cell_type": "markdown",
   "metadata": {},
   "source": [
    "**Question:** Does this model perform better or worse on out-of-sample data as compared to in-sample data?\n",
    "\n",
    "**Answer:** YOUR ANSWER HERE"
   ]
  },
  {
   "cell_type": "code",
   "execution_count": 21,
   "metadata": {},
   "outputs": [
    {
     "name": "stdout",
     "output_type": "stream",
     "text": [
      "the out of sample data is better as it produces a lower mean squared error, meaning better accuracy in general\n"
     ]
    }
   ],
   "source": [
    "print(\"the out of sample data is better as it produces a lower mean squared error, meaning better accuracy in general\") "
   ]
  },
  {
   "cell_type": "code",
   "execution_count": null,
   "metadata": {},
   "outputs": [],
   "source": []
  }
 ],
 "metadata": {
  "file_extension": ".py",
  "kernelspec": {
   "display_name": "Python 3 (ipykernel)",
   "language": "python",
   "name": "python3"
  },
  "language_info": {
   "codemirror_mode": {
    "name": "ipython",
    "version": 3
   },
   "file_extension": ".py",
   "mimetype": "text/x-python",
   "name": "python",
   "nbconvert_exporter": "python",
   "pygments_lexer": "ipython3",
   "version": "3.7.11"
  },
  "mimetype": "text/x-python",
  "name": "python",
  "npconvert_exporter": "python",
  "pygments_lexer": "ipython3",
  "version": 3
 },
 "nbformat": 4,
 "nbformat_minor": 4
}
